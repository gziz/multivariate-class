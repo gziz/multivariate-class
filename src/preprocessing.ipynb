{
 "cells": [
  {
   "cell_type": "code",
   "execution_count": 1,
   "metadata": {},
   "outputs": [],
   "source": [
    "import pandas as pd\n",
    "import numpy as np\n",
    "import matplotlib.pyplot as plt"
   ]
  },
  {
   "cell_type": "code",
   "execution_count": 86,
   "metadata": {},
   "outputs": [],
   "source": [
    "# Limpiar la columna parameter (nombre contaminante)\n",
    "def clean_parameter_col(df):\n",
    "    df['parameter'] = df['parameter'].apply(lambda s: s.strip())\n",
    "    return df\n",
    "\n",
    "def preprocess(df):\n",
    "    df = clean_parameter_col(df)\n",
    "    df = df[['date', 'parameter', 'SO2', 'SO2_b']]\n",
    "    df.columns = ['date', 'parameter', 'Value', 'Flag']\n",
    "    return df\n",
    "\n",
    "def pivot(df):\n",
    "    piv = df.pivot(\n",
    "        columns='parameter',\n",
    "        index='date',\n",
    "        values='Value'\n",
    "    )\n",
    "    return piv\n",
    "\n",
    "invalid_flags = set(['P', 'p', 'c', 'd', 'b', 'm', 'l', 'z',\n",
    "                 'o', 's', 'f', 'e', 'a', 's', 'f', 'h'])\n",
    "\n",
    "def rm_invalid_flags(df):\n",
    "    df.loc[df['Flag'].isin(invalid_flags), 'Value'] = np.nan\n",
    "    return df"
   ]
  },
  {
   "cell_type": "code",
   "execution_count": 87,
   "metadata": {},
   "outputs": [],
   "source": [
    "DATA_DIR = \"../data\"\n",
    "DATA_RAW =  DATA_DIR + \"/raw\"\n",
    "DATA_PROCESSED =  DATA_DIR + \"/processed\"\n",
    "\n",
    "RAW_CONT_PATH = f\"{DATA_RAW}/SD_TecMTY_contaminantes_2021_2022.csv\"\n",
    "RAW_METEO_PATH = f\"{DATA_RAW}/SD_TecMTY_meteorologia_2021_2022.csv\"\n",
    "\n",
    "PROCESSED_CONT_PATH = f\"{DATA_PROCESSED}/cont.csv\"\n",
    "PROCESSED_MET_PATH = f\"{DATA_PROCESSED}/meteo.csv\"\n",
    "\n",
    "PROCESSED_PIV_CONT_PATH = f\"{DATA_PROCESSED}/piv_cont.csv\"\n",
    "PROCESSED_PIV_MET_PATH = f\"{DATA_PROCESSED}/piv_meteo.csv\""
   ]
  },
  {
   "cell_type": "markdown",
   "metadata": {},
   "source": [
    "# Contaminantes"
   ]
  },
  {
   "cell_type": "code",
   "execution_count": 248,
   "metadata": {},
   "outputs": [
    {
     "data": {
      "text/html": [
       "<div>\n",
       "<style scoped>\n",
       "    .dataframe tbody tr th:only-of-type {\n",
       "        vertical-align: middle;\n",
       "    }\n",
       "\n",
       "    .dataframe tbody tr th {\n",
       "        vertical-align: top;\n",
       "    }\n",
       "\n",
       "    .dataframe thead th {\n",
       "        text-align: right;\n",
       "    }\n",
       "</style>\n",
       "<table border=\"1\" class=\"dataframe\">\n",
       "  <thead>\n",
       "    <tr style=\"text-align: right;\">\n",
       "      <th></th>\n",
       "      <th>date</th>\n",
       "      <th>parameter</th>\n",
       "      <th>SE</th>\n",
       "      <th>SE_b</th>\n",
       "      <th>NE</th>\n",
       "      <th>NE_b</th>\n",
       "      <th>CE</th>\n",
       "      <th>CE_b</th>\n",
       "      <th>NO</th>\n",
       "      <th>NO_b</th>\n",
       "      <th>...</th>\n",
       "      <th>SO2</th>\n",
       "      <th>SO2_b</th>\n",
       "      <th>SE3</th>\n",
       "      <th>SE3_b</th>\n",
       "      <th>SUR</th>\n",
       "      <th>SUR_b</th>\n",
       "      <th>Norte2</th>\n",
       "      <th>NTE2_b</th>\n",
       "      <th>NE3</th>\n",
       "      <th>NE3_b</th>\n",
       "    </tr>\n",
       "  </thead>\n",
       "  <tbody>\n",
       "    <tr>\n",
       "      <th>205739</th>\n",
       "      <td>2021-07-01 00:00:00</td>\n",
       "      <td>PM10</td>\n",
       "      <td>NaN</td>\n",
       "      <td>x</td>\n",
       "      <td>NaN</td>\n",
       "      <td>x</td>\n",
       "      <td>NaN</td>\n",
       "      <td>x</td>\n",
       "      <td>NaN</td>\n",
       "      <td>x</td>\n",
       "      <td>...</td>\n",
       "      <td>NaN</td>\n",
       "      <td>x</td>\n",
       "      <td>NaN</td>\n",
       "      <td>l</td>\n",
       "      <td>NaN</td>\n",
       "      <td>l</td>\n",
       "      <td>NaN</td>\n",
       "      <td>l</td>\n",
       "      <td>NaN</td>\n",
       "      <td>x</td>\n",
       "    </tr>\n",
       "    <tr>\n",
       "      <th>205740</th>\n",
       "      <td>2021-07-01 00:00:00</td>\n",
       "      <td>PM2.5</td>\n",
       "      <td>NaN</td>\n",
       "      <td>x</td>\n",
       "      <td>NaN</td>\n",
       "      <td>x</td>\n",
       "      <td>NaN</td>\n",
       "      <td>x</td>\n",
       "      <td>NaN</td>\n",
       "      <td>x</td>\n",
       "      <td>...</td>\n",
       "      <td>NaN</td>\n",
       "      <td>x</td>\n",
       "      <td>NaN</td>\n",
       "      <td>l</td>\n",
       "      <td>NaN</td>\n",
       "      <td>l</td>\n",
       "      <td>NaN</td>\n",
       "      <td>l</td>\n",
       "      <td>NaN</td>\n",
       "      <td>x</td>\n",
       "    </tr>\n",
       "    <tr>\n",
       "      <th>205741</th>\n",
       "      <td>2021-07-01 00:00:00</td>\n",
       "      <td>O3</td>\n",
       "      <td>NaN</td>\n",
       "      <td>x</td>\n",
       "      <td>NaN</td>\n",
       "      <td>x</td>\n",
       "      <td>NaN</td>\n",
       "      <td>x</td>\n",
       "      <td>NaN</td>\n",
       "      <td>x</td>\n",
       "      <td>...</td>\n",
       "      <td>NaN</td>\n",
       "      <td>x</td>\n",
       "      <td>NaN</td>\n",
       "      <td>l</td>\n",
       "      <td>NaN</td>\n",
       "      <td>l</td>\n",
       "      <td>NaN</td>\n",
       "      <td>l</td>\n",
       "      <td>NaN</td>\n",
       "      <td>x</td>\n",
       "    </tr>\n",
       "    <tr>\n",
       "      <th>205742</th>\n",
       "      <td>2021-07-01 00:00:00</td>\n",
       "      <td>SO2</td>\n",
       "      <td>NaN</td>\n",
       "      <td>x</td>\n",
       "      <td>NaN</td>\n",
       "      <td>x</td>\n",
       "      <td>NaN</td>\n",
       "      <td>x</td>\n",
       "      <td>NaN</td>\n",
       "      <td>x</td>\n",
       "      <td>...</td>\n",
       "      <td>NaN</td>\n",
       "      <td>x</td>\n",
       "      <td>NaN</td>\n",
       "      <td>l</td>\n",
       "      <td>NaN</td>\n",
       "      <td>l</td>\n",
       "      <td>NaN</td>\n",
       "      <td>l</td>\n",
       "      <td>NaN</td>\n",
       "      <td>x</td>\n",
       "    </tr>\n",
       "    <tr>\n",
       "      <th>205743</th>\n",
       "      <td>2021-07-01 00:00:00</td>\n",
       "      <td>NO2</td>\n",
       "      <td>NaN</td>\n",
       "      <td>e</td>\n",
       "      <td>NaN</td>\n",
       "      <td>x</td>\n",
       "      <td>NaN</td>\n",
       "      <td>x</td>\n",
       "      <td>NaN</td>\n",
       "      <td>x</td>\n",
       "      <td>...</td>\n",
       "      <td>NaN</td>\n",
       "      <td>e</td>\n",
       "      <td>NaN</td>\n",
       "      <td>e</td>\n",
       "      <td>NaN</td>\n",
       "      <td>e</td>\n",
       "      <td>NaN</td>\n",
       "      <td>e</td>\n",
       "      <td>NaN</td>\n",
       "      <td>e</td>\n",
       "    </tr>\n",
       "  </tbody>\n",
       "</table>\n",
       "<p>5 rows × 30 columns</p>\n",
       "</div>"
      ],
      "text/plain": [
       "                       date parameter  SE SE_b  NE NE_b  CE CE_b  NO NO_b  \\\n",
       "205739  2021-07-01 00:00:00     PM10  NaN    x NaN    x NaN    x NaN    x   \n",
       "205740  2021-07-01 00:00:00     PM2.5 NaN    x NaN    x NaN    x NaN    x   \n",
       "205741  2021-07-01 00:00:00     O3    NaN    x NaN    x NaN    x NaN    x   \n",
       "205742  2021-07-01 00:00:00     SO2   NaN    x NaN    x NaN    x NaN    x   \n",
       "205743  2021-07-01 00:00:00     NO2   NaN    e NaN    x NaN    x NaN    x   \n",
       "\n",
       "        ...  SO2 SO2_b  SE3 SE3_b  SUR SUR_b  Norte2 NTE2_b  NE3 NE3_b  \n",
       "205739  ...  NaN     x  NaN     l  NaN     l     NaN      l  NaN     x  \n",
       "205740  ...  NaN     x  NaN     l  NaN     l     NaN      l  NaN     x  \n",
       "205741  ...  NaN     x  NaN     l  NaN     l     NaN      l  NaN     x  \n",
       "205742  ...  NaN     x  NaN     l  NaN     l     NaN      l  NaN     x  \n",
       "205743  ...  NaN     e  NaN     e  NaN     e     NaN      e  NaN     e  \n",
       "\n",
       "[5 rows x 30 columns]"
      ]
     },
     "execution_count": 248,
     "metadata": {},
     "output_type": "execute_result"
    }
   ],
   "source": [
    "cont = pd.read_csv(RAW_CONT_PATH, index_col=0)\n",
    "cont.head()"
   ]
  },
  {
   "cell_type": "code",
   "execution_count": 249,
   "metadata": {},
   "outputs": [],
   "source": [
    "cont = preprocess(cont)"
   ]
  },
  {
   "cell_type": "markdown",
   "metadata": {},
   "source": [
    "Cuantas banderas invalidas hay?\n",
    "* De estas, cuantas tienen NaN?"
   ]
  },
  {
   "cell_type": "code",
   "execution_count": 250,
   "metadata": {},
   "outputs": [
    {
     "name": "stdout",
     "output_type": "stream",
     "text": [
      "N. filas con bandera invalida: 1094\n",
      "N. filas con bandera invalida y con Nan: 1094\n"
     ]
    }
   ],
   "source": [
    "tmp = cont[cont['Flag'].isin(invalid_flags)]\n",
    "print(f\"N. filas con bandera invalida: {len(tmp)}\")\n",
    "print(f\"N. filas con bandera invalida y con Nan: {tmp['Value'].isna().sum()}\")"
   ]
  },
  {
   "cell_type": "markdown",
   "metadata": {},
   "source": [
    "* Todas las banderas invalidas tienen valores NaN."
   ]
  },
  {
   "cell_type": "markdown",
   "metadata": {},
   "source": [
    "Encontrar el número de NaN con bandera valida"
   ]
  },
  {
   "cell_type": "code",
   "execution_count": 262,
   "metadata": {},
   "outputs": [
    {
     "name": "stdout",
     "output_type": "stream",
     "text": [
      "Total NaN de banderas validas \n",
      "1013\n"
     ]
    }
   ],
   "source": [
    "tmp = cont[~cont['Flag'].isin(invalid_flags)]\n",
    "print(f\"Total NaN de banderas validas \\n{tmp.isna().sum().sum()}\")"
   ]
  },
  {
   "cell_type": "markdown",
   "metadata": {},
   "source": [
    "* En total existen 2107 valores NaN, 1094 son banderas invalidas, 1013 son banderas validas."
   ]
  },
  {
   "cell_type": "markdown",
   "metadata": {},
   "source": [
    "Guardar df procesada antes de pivotear"
   ]
  },
  {
   "cell_type": "code",
   "execution_count": 225,
   "metadata": {},
   "outputs": [],
   "source": [
    "cont.to_csv(PROCESSED_CONT_PATH, index=False)"
   ]
  },
  {
   "cell_type": "markdown",
   "metadata": {},
   "source": [
    "Guardar df pivoteada"
   ]
  },
  {
   "cell_type": "code",
   "execution_count": 170,
   "metadata": {},
   "outputs": [
    {
     "name": "stdout",
     "output_type": "stream",
     "text": [
      "10959\n"
     ]
    },
    {
     "data": {
      "text/html": [
       "<div>\n",
       "<style scoped>\n",
       "    .dataframe tbody tr th:only-of-type {\n",
       "        vertical-align: middle;\n",
       "    }\n",
       "\n",
       "    .dataframe tbody tr th {\n",
       "        vertical-align: top;\n",
       "    }\n",
       "\n",
       "    .dataframe thead th {\n",
       "        text-align: right;\n",
       "    }\n",
       "</style>\n",
       "<table border=\"1\" class=\"dataframe\">\n",
       "  <thead>\n",
       "    <tr style=\"text-align: right;\">\n",
       "      <th>parameter</th>\n",
       "      <th>date</th>\n",
       "      <th>CO</th>\n",
       "      <th>NO2</th>\n",
       "      <th>O3</th>\n",
       "      <th>PM10</th>\n",
       "      <th>PM2.5</th>\n",
       "      <th>SO2</th>\n",
       "    </tr>\n",
       "  </thead>\n",
       "  <tbody>\n",
       "    <tr>\n",
       "      <th>0</th>\n",
       "      <td>2021-07-01 00:00:00</td>\n",
       "      <td>NaN</td>\n",
       "      <td>NaN</td>\n",
       "      <td>NaN</td>\n",
       "      <td>NaN</td>\n",
       "      <td>NaN</td>\n",
       "      <td>NaN</td>\n",
       "    </tr>\n",
       "    <tr>\n",
       "      <th>1</th>\n",
       "      <td>2021-07-01 01:00:00</td>\n",
       "      <td>0.49</td>\n",
       "      <td>3.9</td>\n",
       "      <td>22.0</td>\n",
       "      <td>21.0</td>\n",
       "      <td>NaN</td>\n",
       "      <td>2.8</td>\n",
       "    </tr>\n",
       "    <tr>\n",
       "      <th>2</th>\n",
       "      <td>2021-07-01 02:00:00</td>\n",
       "      <td>0.51</td>\n",
       "      <td>8.4</td>\n",
       "      <td>17.0</td>\n",
       "      <td>24.0</td>\n",
       "      <td>3.0</td>\n",
       "      <td>3.1</td>\n",
       "    </tr>\n",
       "    <tr>\n",
       "      <th>3</th>\n",
       "      <td>2021-07-01 03:00:00</td>\n",
       "      <td>0.50</td>\n",
       "      <td>6.4</td>\n",
       "      <td>19.0</td>\n",
       "      <td>22.0</td>\n",
       "      <td>5.0</td>\n",
       "      <td>3.0</td>\n",
       "    </tr>\n",
       "    <tr>\n",
       "      <th>4</th>\n",
       "      <td>2021-07-01 04:00:00</td>\n",
       "      <td>0.51</td>\n",
       "      <td>10.0</td>\n",
       "      <td>14.0</td>\n",
       "      <td>35.0</td>\n",
       "      <td>15.0</td>\n",
       "      <td>3.2</td>\n",
       "    </tr>\n",
       "  </tbody>\n",
       "</table>\n",
       "</div>"
      ],
      "text/plain": [
       "parameter                 date    CO   NO2    O3  PM10  PM2.5  SO2\n",
       "0          2021-07-01 00:00:00   NaN   NaN   NaN   NaN    NaN  NaN\n",
       "1          2021-07-01 01:00:00  0.49   3.9  22.0  21.0    NaN  2.8\n",
       "2          2021-07-01 02:00:00  0.51   8.4  17.0  24.0    3.0  3.1\n",
       "3          2021-07-01 03:00:00  0.50   6.4  19.0  22.0    5.0  3.0\n",
       "4          2021-07-01 04:00:00  0.51  10.0  14.0  35.0   15.0  3.2"
      ]
     },
     "execution_count": 170,
     "metadata": {},
     "output_type": "execute_result"
    }
   ],
   "source": [
    "piv_cont = pivot(cont)\n",
    "piv_cont = piv_cont.reset_index()\n",
    "piv_cont.to_csv(PROCESSED_PIV_CONT_PATH, index=False)\n",
    "print(len(piv_cont))\n",
    "piv_cont.head()"
   ]
  },
  {
   "cell_type": "markdown",
   "metadata": {},
   "source": [
    "# Meteorologica"
   ]
  },
  {
   "cell_type": "code",
   "execution_count": 281,
   "metadata": {},
   "outputs": [
    {
     "data": {
      "text/html": [
       "<div>\n",
       "<style scoped>\n",
       "    .dataframe tbody tr th:only-of-type {\n",
       "        vertical-align: middle;\n",
       "    }\n",
       "\n",
       "    .dataframe tbody tr th {\n",
       "        vertical-align: top;\n",
       "    }\n",
       "\n",
       "    .dataframe thead th {\n",
       "        text-align: right;\n",
       "    }\n",
       "</style>\n",
       "<table border=\"1\" class=\"dataframe\">\n",
       "  <thead>\n",
       "    <tr style=\"text-align: right;\">\n",
       "      <th></th>\n",
       "      <th>date</th>\n",
       "      <th>parameter</th>\n",
       "      <th>SE</th>\n",
       "      <th>SE_b</th>\n",
       "      <th>NE</th>\n",
       "      <th>NE_b</th>\n",
       "      <th>CE</th>\n",
       "      <th>CE_b</th>\n",
       "      <th>NO</th>\n",
       "      <th>NO_b</th>\n",
       "      <th>...</th>\n",
       "      <th>SO2</th>\n",
       "      <th>SO2_b</th>\n",
       "      <th>SE3</th>\n",
       "      <th>SE3_b</th>\n",
       "      <th>SUR</th>\n",
       "      <th>SUR_b</th>\n",
       "      <th>Norte2</th>\n",
       "      <th>NTE2_b</th>\n",
       "      <th>NE3</th>\n",
       "      <th>NE3_b</th>\n",
       "    </tr>\n",
       "  </thead>\n",
       "  <tbody>\n",
       "    <tr>\n",
       "      <th>239459</th>\n",
       "      <td>2021-07-01 00:00:00</td>\n",
       "      <td>TOUT</td>\n",
       "      <td>NaN</td>\n",
       "      <td>x</td>\n",
       "      <td>NaN</td>\n",
       "      <td>x</td>\n",
       "      <td>NaN</td>\n",
       "      <td>x</td>\n",
       "      <td>NaN</td>\n",
       "      <td>x</td>\n",
       "      <td>...</td>\n",
       "      <td>NaN</td>\n",
       "      <td>x</td>\n",
       "      <td>NaN</td>\n",
       "      <td>x</td>\n",
       "      <td>NaN</td>\n",
       "      <td>x</td>\n",
       "      <td>NaN</td>\n",
       "      <td>x</td>\n",
       "      <td>NaN</td>\n",
       "      <td>x</td>\n",
       "    </tr>\n",
       "    <tr>\n",
       "      <th>239460</th>\n",
       "      <td>2021-07-01 00:00:00</td>\n",
       "      <td>RH</td>\n",
       "      <td>NaN</td>\n",
       "      <td>x</td>\n",
       "      <td>NaN</td>\n",
       "      <td>x</td>\n",
       "      <td>NaN</td>\n",
       "      <td>x</td>\n",
       "      <td>NaN</td>\n",
       "      <td>x</td>\n",
       "      <td>...</td>\n",
       "      <td>NaN</td>\n",
       "      <td>x</td>\n",
       "      <td>NaN</td>\n",
       "      <td>l</td>\n",
       "      <td>NaN</td>\n",
       "      <td>l</td>\n",
       "      <td>NaN</td>\n",
       "      <td>l</td>\n",
       "      <td>NaN</td>\n",
       "      <td>x</td>\n",
       "    </tr>\n",
       "    <tr>\n",
       "      <th>239461</th>\n",
       "      <td>2021-07-01 00:00:00</td>\n",
       "      <td>SR</td>\n",
       "      <td>NaN</td>\n",
       "      <td>x</td>\n",
       "      <td>0.0</td>\n",
       "      <td>l</td>\n",
       "      <td>0.0</td>\n",
       "      <td>l</td>\n",
       "      <td>0.0</td>\n",
       "      <td>l</td>\n",
       "      <td>...</td>\n",
       "      <td>0.0</td>\n",
       "      <td>l</td>\n",
       "      <td>0.0</td>\n",
       "      <td>l</td>\n",
       "      <td>0.0</td>\n",
       "      <td>l</td>\n",
       "      <td>0.0</td>\n",
       "      <td>l</td>\n",
       "      <td>0.0</td>\n",
       "      <td>x</td>\n",
       "    </tr>\n",
       "    <tr>\n",
       "      <th>239462</th>\n",
       "      <td>2021-07-01 00:00:00</td>\n",
       "      <td>PRS</td>\n",
       "      <td>NaN</td>\n",
       "      <td>x</td>\n",
       "      <td>NaN</td>\n",
       "      <td>x</td>\n",
       "      <td>NaN</td>\n",
       "      <td>x</td>\n",
       "      <td>NaN</td>\n",
       "      <td>x</td>\n",
       "      <td>...</td>\n",
       "      <td>NaN</td>\n",
       "      <td>x</td>\n",
       "      <td>NaN</td>\n",
       "      <td>l</td>\n",
       "      <td>NaN</td>\n",
       "      <td>l</td>\n",
       "      <td>NaN</td>\n",
       "      <td>l</td>\n",
       "      <td>NaN</td>\n",
       "      <td>x</td>\n",
       "    </tr>\n",
       "    <tr>\n",
       "      <th>239463</th>\n",
       "      <td>2021-07-01 00:00:00</td>\n",
       "      <td>RAINF</td>\n",
       "      <td>NaN</td>\n",
       "      <td>x</td>\n",
       "      <td>NaN</td>\n",
       "      <td>x</td>\n",
       "      <td>NaN</td>\n",
       "      <td>x</td>\n",
       "      <td>NaN</td>\n",
       "      <td>x</td>\n",
       "      <td>...</td>\n",
       "      <td>NaN</td>\n",
       "      <td>x</td>\n",
       "      <td>NaN</td>\n",
       "      <td>l</td>\n",
       "      <td>NaN</td>\n",
       "      <td>l</td>\n",
       "      <td>NaN</td>\n",
       "      <td>l</td>\n",
       "      <td>NaN</td>\n",
       "      <td>x</td>\n",
       "    </tr>\n",
       "  </tbody>\n",
       "</table>\n",
       "<p>5 rows × 30 columns</p>\n",
       "</div>"
      ],
      "text/plain": [
       "                       date parameter  SE SE_b   NE NE_b   CE CE_b   NO NO_b  \\\n",
       "239459  2021-07-01 00:00:00     TOUT  NaN    x  NaN    x  NaN    x  NaN    x   \n",
       "239460  2021-07-01 00:00:00     RH    NaN    x  NaN    x  NaN    x  NaN    x   \n",
       "239461  2021-07-01 00:00:00     SR    NaN    x  0.0    l  0.0    l  0.0    l   \n",
       "239462  2021-07-01 00:00:00     PRS   NaN    x  NaN    x  NaN    x  NaN    x   \n",
       "239463  2021-07-01 00:00:00     RAINF NaN    x  NaN    x  NaN    x  NaN    x   \n",
       "\n",
       "        ...  SO2 SO2_b  SE3 SE3_b  SUR SUR_b  Norte2 NTE2_b  NE3 NE3_b  \n",
       "239459  ...  NaN     x  NaN     x  NaN     x     NaN      x  NaN     x  \n",
       "239460  ...  NaN     x  NaN     l  NaN     l     NaN      l  NaN     x  \n",
       "239461  ...  0.0     l  0.0     l  0.0     l     0.0      l  0.0     x  \n",
       "239462  ...  NaN     x  NaN     l  NaN     l     NaN      l  NaN     x  \n",
       "239463  ...  NaN     x  NaN     l  NaN     l     NaN      l  NaN     x  \n",
       "\n",
       "[5 rows x 30 columns]"
      ]
     },
     "execution_count": 281,
     "metadata": {},
     "output_type": "execute_result"
    }
   ],
   "source": [
    "met = pd.read_csv(RAW_METEO_PATH, index_col=0)\n",
    "met.head()"
   ]
  },
  {
   "cell_type": "code",
   "execution_count": 282,
   "metadata": {},
   "outputs": [],
   "source": [
    "met = preprocess(met)"
   ]
  },
  {
   "cell_type": "code",
   "execution_count": 283,
   "metadata": {},
   "outputs": [
    {
     "name": "stdout",
     "output_type": "stream",
     "text": [
      "N. filas con bandera invalida: 5165\n",
      "N. filas con bandera invalida y con Nan: 29\n"
     ]
    }
   ],
   "source": [
    "tmp = met[met['Flag'].isin(invalid_flags)]\n",
    "print(f\"N. filas con bandera invalida: {len(tmp)}\")\n",
    "print(f\"N. filas con bandera invalida y con Nan: {tmp['Value'].isna().sum()}\")"
   ]
  },
  {
   "cell_type": "markdown",
   "metadata": {},
   "source": [
    "* De las 5165 banderas invalidas, solo 29 de estas son NaN"
   ]
  },
  {
   "cell_type": "code",
   "execution_count": 284,
   "metadata": {},
   "outputs": [
    {
     "data": {
      "text/plain": [
       "0.0    5136\n",
       "Name: Value, dtype: int64"
      ]
     },
     "execution_count": 284,
     "metadata": {},
     "output_type": "execute_result"
    }
   ],
   "source": [
    "tmp['Value'].value_counts()"
   ]
  },
  {
   "cell_type": "markdown",
   "metadata": {},
   "source": [
    "* Alrededor de 5136 valores tienen 0.0 para banderas invalidas."
   ]
  },
  {
   "cell_type": "markdown",
   "metadata": {},
   "source": [
    "Convertir estos \"0.0\" a NaN"
   ]
  },
  {
   "cell_type": "code",
   "execution_count": 285,
   "metadata": {},
   "outputs": [
    {
     "name": "stdout",
     "output_type": "stream",
     "text": [
      "N. filas con bandera invalida: 5165\n",
      "N. filas con bandera invalida y con Nan: 5165\n"
     ]
    }
   ],
   "source": [
    "met = rm_invalid_flags(met)\n",
    "tmp = met[met['Flag'].isin(invalid_flags)]\n",
    "print(f\"N. filas con bandera invalida: {len(tmp)}\")\n",
    "print(f\"N. filas con bandera invalida y con Nan: {tmp['Value'].isna().sum()}\")"
   ]
  },
  {
   "cell_type": "markdown",
   "metadata": {},
   "source": [
    "Encontrar el número de valores NaN con bander valida"
   ]
  },
  {
   "cell_type": "code",
   "execution_count": 286,
   "metadata": {},
   "outputs": [
    {
     "name": "stdout",
     "output_type": "stream",
     "text": [
      "Total NaN de banderas validas \n",
      "1828\n"
     ]
    }
   ],
   "source": [
    "tmp = met[~met['Flag'].isin(invalid_flags)]\n",
    "print(f\"Total NaN de banderas validas \\n{tmp.isna().sum().sum()}\")"
   ]
  },
  {
   "cell_type": "markdown",
   "metadata": {},
   "source": [
    "Faltantes por variable"
   ]
  },
  {
   "cell_type": "code",
   "execution_count": 287,
   "metadata": {},
   "outputs": [
    {
     "name": "stdout",
     "output_type": "stream",
     "text": [
      "parameter\n",
      "date        0\n",
      "PRS       214\n",
      "RAINF     211\n",
      "RH        233\n",
      "SR       5152\n",
      "TOUT      214\n",
      "WDR       704\n",
      "WSR       268\n",
      "dtype: int64\n",
      "Total faltantes: 6996\n"
     ]
    }
   ],
   "source": [
    "piv_met = pivot(met)\n",
    "piv_met = piv_met.reset_index()\n",
    "print(piv_met.isna().sum())\n",
    "print(f\"Total faltantes: {piv_met.isna().sum().sum()}\")"
   ]
  },
  {
   "cell_type": "markdown",
   "metadata": {},
   "source": [
    "* La mayoría de estos NaN se encuentran en Radiación Solar"
   ]
  },
  {
   "cell_type": "code",
   "execution_count": 288,
   "metadata": {},
   "outputs": [],
   "source": [
    "met.to_csv(PROCESSED_MET_PATH, index=False)\n",
    "piv_met.to_csv(PROCESSED_PIV_MET_PATH, index=False)"
   ]
  },
  {
   "cell_type": "code",
   "execution_count": null,
   "metadata": {},
   "outputs": [],
   "source": []
  }
 ],
 "metadata": {
  "kernelspec": {
   "display_name": "Python 3.9.12 ('base')",
   "language": "python",
   "name": "python3"
  },
  "language_info": {
   "codemirror_mode": {
    "name": "ipython",
    "version": 3
   },
   "file_extension": ".py",
   "mimetype": "text/x-python",
   "name": "python",
   "nbconvert_exporter": "python",
   "pygments_lexer": "ipython3",
   "version": "3.9.12"
  },
  "orig_nbformat": 4,
  "vscode": {
   "interpreter": {
    "hash": "f46b6a3901a6867c6a60d50eb7722dd0c494d075c29d3d62646a1899a3e8cd37"
   }
  }
 },
 "nbformat": 4,
 "nbformat_minor": 2
}
